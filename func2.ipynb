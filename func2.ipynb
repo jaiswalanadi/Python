{
 "cells": [
  {
   "cell_type": "code",
   "execution_count": 1,
   "id": "db8f0fd4-a53f-46d1-889a-7d3d46805015",
   "metadata": {},
   "outputs": [
    {
     "name": "stdout",
     "output_type": "stream",
     "text": [
      "[('Virat Kohli', 24936), ('Jack Kallis', 25534), ('Ricky Ponting', 27483), ('Sachin Tendulkar', 34357)]\n"
     ]
    }
   ],
   "source": [
    "#1\n",
    "runs = [('Sachin Tendulkar', 34357), ('Ricky Ponting', 27483), ('Jack Kallis', 25534), ('Virat Kohli', 24936)]\n",
    "runs.sort(key = lambda x: x[1])\n",
    "print(runs)"
   ]
  },
  {
   "cell_type": "code",
   "execution_count": 2,
   "id": "19cb1cad-b1b5-4ea8-b524-c15e15124db5",
   "metadata": {},
   "outputs": [
    {
     "data": {
      "text/plain": [
       "[1, 4, 9, 16, 25, 36, 49, 64, 81, 100]"
      ]
     },
     "execution_count": 2,
     "metadata": {},
     "output_type": "execute_result"
    }
   ],
   "source": [
    "#2\n",
    "l = [1, 2, 3, 4, 5, 6, 7, 8, 9, 10]\n",
    "list(map(lambda x: x**2,l))"
   ]
  },
  {
   "cell_type": "code",
   "execution_count": 3,
   "id": "5571baee-699d-454d-ad24-8e1c8ff0ec9f",
   "metadata": {},
   "outputs": [
    {
     "data": {
      "text/plain": [
       "('1', '2', '3', '4', '5', '6', '7', '8', '9', '10')"
      ]
     },
     "execution_count": 3,
     "metadata": {},
     "output_type": "execute_result"
    }
   ],
   "source": [
    "#3\n",
    "l = [1, 2, 3, 4, 5, 6, 7, 8, 9, 10]\n",
    "tuple(map(lambda x: str(x),l))"
   ]
  },
  {
   "cell_type": "code",
   "execution_count": 6,
   "id": "662a8bb0-01fd-4226-a6df-2173c785a2f5",
   "metadata": {},
   "outputs": [
    {
     "data": {
      "text/plain": [
       "15511210043330985984000000"
      ]
     },
     "execution_count": 6,
     "metadata": {},
     "output_type": "execute_result"
    }
   ],
   "source": [
    "#4\n",
    "from functools import reduce\n",
    "a = list(range(1,26))\n",
    "reduce(lambda x,y: x*y, a)"
   ]
  },
  {
   "cell_type": "code",
   "execution_count": 7,
   "id": "851f9534-2d28-4fea-96be-20f395ce1b47",
   "metadata": {},
   "outputs": [
    {
     "data": {
      "text/plain": [
       "[6, 60, 90, 120]"
      ]
     },
     "execution_count": 7,
     "metadata": {},
     "output_type": "execute_result"
    }
   ],
   "source": [
    "#5\n",
    "l = [2, 3, 6, 9, 27, 60, 90, 120, 55, 46]\n",
    "list(filter(lambda x: x % 2 == 0 and x % 3 == 0, l)) "
   ]
  },
  {
   "cell_type": "code",
   "execution_count": 20,
   "id": "54231441-789b-41de-9be6-986b21313a8a",
   "metadata": {},
   "outputs": [
    {
     "data": {
      "text/plain": [
       "['php', 'aba', 'radar', 'level']"
      ]
     },
     "execution_count": 20,
     "metadata": {},
     "output_type": "execute_result"
    }
   ],
   "source": [
    "#6\n",
    "s = ['python', 'php', 'aba', 'radar', 'level']\n",
    "list(filter(lambda x: (x == \"\".join(reversed(x))), s))"
   ]
  },
  {
   "cell_type": "code",
   "execution_count": null,
   "id": "d5fca638-b92f-4c08-af63-253c512ef92a",
   "metadata": {},
   "outputs": [],
   "source": []
  }
 ],
 "metadata": {
  "kernelspec": {
   "display_name": "Python 3 (ipykernel)",
   "language": "python",
   "name": "python3"
  },
  "language_info": {
   "codemirror_mode": {
    "name": "ipython",
    "version": 3
   },
   "file_extension": ".py",
   "mimetype": "text/x-python",
   "name": "python",
   "nbconvert_exporter": "python",
   "pygments_lexer": "ipython3",
   "version": "3.10.8"
  }
 },
 "nbformat": 4,
 "nbformat_minor": 5
}
