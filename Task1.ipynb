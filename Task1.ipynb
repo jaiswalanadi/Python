{
 "cells": [
  {
   "cell_type": "code",
   "execution_count": 14,
   "id": "b696db60-db7d-40bd-92a5-9328a2c3a5ef",
   "metadata": {},
   "outputs": [],
   "source": [
    "#1\n",
    "list1 = [1,2,3,4, [44,55,66, True], False, (34,56,78,89,34), {1,2,3,3,2,1}, {1:34, \"key2\": [55, 67, 78, 89], 4: (45,\n",
    "22, 61, 34)}, [56, 'data science'], 'Machine Learning']\n",
    "\n",
    "def fun(l):\n",
    "    product = 1\n",
    "    for i in l:\n",
    "        if type(i) == int:                                                   # for integer \n",
    "            product = product * i\n",
    "            \n",
    "        elif type(i) == str:                                                 # for string\n",
    "            for j in i:\n",
    "                if j == '0' or j == '1' or j == '2' or j == '3' or j == '4' or j == '5' or j == '6' or j == '7' or j == '8' or j == '9':\n",
    "                    product = product * int(j)\n",
    "                    \n",
    "        elif type(i) == list or type(i) == tuple or type(i) == set:          # for list,tuple or set\n",
    "            for j in i:\n",
    "                if type(j) == int:\n",
    "                    product = product * j\n",
    "                elif type(j) == str:\n",
    "                    for k in j:\n",
    "                        if k == '0' or k == '1' or k == '2' or k == '3' or k == '4' or k == '5' or k == '6' or k == '7' or k == '8' or k == '9':\n",
    "                            product = product * int(k)\n",
    "                            \n",
    "        elif type(i) == dict:                                               # for dictionary \n",
    "            for j in i.keys():                  # for keys \n",
    "                if type(j) == int:\n",
    "                    product = product * j\n",
    "                elif type(j) == str:\n",
    "                    for k in j:\n",
    "                        if k == '0' or k == '1' or k == '2' or k == '3' or k == '4' or k == '5' or k == '6' or k == '7' or k == '8' or k == '9':\n",
    "                            product = product * int(k)\n",
    "                elif type(j) == list or type(j) == tuple or type(j) == set:\n",
    "                    for k in j:\n",
    "                        if type(k) == int:\n",
    "                            product = product * k\n",
    "                        elif type(k) == str:\n",
    "                            for l in k:\n",
    "                                if l == '0' or l == '1' or l == '2' or l == '3' or l == '4' or l == '5' or l == '6' or l == '7' or l == '8' or l == '9':\n",
    "                                    product = product * int(l)\n",
    "                                    \n",
    "            for j in i.values():                   \n",
    "                if type(j) == int:              # for values\n",
    "                    product = product * j\n",
    "                elif type(j) == str:\n",
    "                    for k in j:\n",
    "                        if k == '0' or k == '1' or k == '2' or k == '3' or k == '4' or k == '5' or k == '6' or k == '7' or k == '8' or k == '9':\n",
    "                            product = product * int(k)\n",
    "                elif type(j) == list or type(j) == tuple or type(j) == set:\n",
    "                    for k in j:\n",
    "                        if type(k) == int:\n",
    "                            product = product * k\n",
    "                        elif type(k) == str:\n",
    "                            for l in k:\n",
    "                                if l == '0' or l == '1' or l == '2' or l == '3' or l == '4' or l == '5' or l == '6' or l == '7' or l == '8' or l == '9':\n",
    "                                    product = product * int(l)                        \n",
    "                                    \n",
    "    return product        \n",
    "            "
   ]
  },
  {
   "cell_type": "code",
   "execution_count": 16,
   "id": "81b9a92e-92b3-47b1-859a-73d88b0861bf",
   "metadata": {},
   "outputs": [
    {
     "data": {
      "text/plain": [
       "8269423677974170957667682484224000"
      ]
     },
     "execution_count": 16,
     "metadata": {},
     "output_type": "execute_result"
    }
   ],
   "source": [
    "fun(list1)"
   ]
  },
  {
   "cell_type": "code",
   "execution_count": 42,
   "id": "28e87a7a-6f6b-4388-b4a8-3ba0306e11cf",
   "metadata": {},
   "outputs": [
    {
     "name": "stdout",
     "output_type": "stream",
     "text": [
      "i$wznt$to$yexome$z$dztz$sxientist.\n"
     ]
    }
   ],
   "source": [
    "#2\n",
    "s = \"I want to become a Data Scientist.\"\n",
    "sl = s.lower()\n",
    "s1 = sl.replace('a','z')\n",
    "s2 = s1.replace('b','y')\n",
    "s3 = s2.replace('c','x')\n",
    "s4 = s3.replace(' ','$')\n",
    "print(s4)"
   ]
  },
  {
   "cell_type": "code",
   "execution_count": null,
   "id": "46c45a4c-987a-430f-b6cc-20b92963652b",
   "metadata": {},
   "outputs": [],
   "source": []
  }
 ],
 "metadata": {
  "kernelspec": {
   "display_name": "Python 3 (ipykernel)",
   "language": "python",
   "name": "python3"
  },
  "language_info": {
   "codemirror_mode": {
    "name": "ipython",
    "version": 3
   },
   "file_extension": ".py",
   "mimetype": "text/x-python",
   "name": "python",
   "nbconvert_exporter": "python",
   "pygments_lexer": "ipython3",
   "version": "3.10.8"
  }
 },
 "nbformat": 4,
 "nbformat_minor": 5
}
