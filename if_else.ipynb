{
 "cells": [
  {
   "cell_type": "code",
   "execution_count": 5,
   "id": "0121b4ff-fe44-4adc-9786-2aacdb3b2ab5",
   "metadata": {},
   "outputs": [
    {
     "name": "stdin",
     "output_type": "stream",
     "text": [
      "Enter the marks:  67\n"
     ]
    },
    {
     "name": "stdout",
     "output_type": "stream",
     "text": [
      "C\n"
     ]
    }
   ],
   "source": [
    "#1\n",
    "marks = int(input(\"Enter the marks: \"))\n",
    "if marks > 90:\n",
    "            print(\"A\")\n",
    "elif marks <= 90 and marks > 80:\n",
    "            print(\"B\")\n",
    "elif marks <= 80 and marks >= 60:\n",
    "            print(\"C\")\n",
    "else:\n",
    "            print(\"D\")           "
   ]
  },
  {
   "cell_type": "code",
   "execution_count": 10,
   "id": "b4d95d9d-4e03-4971-9f12-ae8c9f9d4786",
   "metadata": {},
   "outputs": [
    {
     "name": "stdin",
     "output_type": "stream",
     "text": [
      "Enter the cost price:  1234567\n"
     ]
    },
    {
     "name": "stdout",
     "output_type": "stream",
     "text": [
      "185185.05\n"
     ]
    }
   ],
   "source": [
    "#2\n",
    "cost_price = int(input(\"Enter the cost price: \"))\n",
    "tax = 0\n",
    "road_tax = 0\n",
    "if cost_price > 100000:\n",
    "    tax = 15\n",
    "    road_tax = cost_price  * (tax/100)\n",
    "    print(road_tax)\n",
    "elif cost_price > 50000 and cost_price <= 100000:\n",
    "    tax = 10\n",
    "    road_tax = cost_price  * (tax/100)\n",
    "    print(road_tax)\n",
    "else:\n",
    "    tax = 5\n",
    "    road_tax = cost_price  * (tax/100)\n",
    "    print(road_tax)"
   ]
  },
  {
   "cell_type": "code",
   "execution_count": 11,
   "id": "a998c790-9b7c-4ba4-84b4-5f9a4d2de510",
   "metadata": {},
   "outputs": [
    {
     "name": "stdin",
     "output_type": "stream",
     "text": [
      "Enter the city:  Delhi\n"
     ]
    },
    {
     "name": "stdout",
     "output_type": "stream",
     "text": [
      "Red Fort\n"
     ]
    }
   ],
   "source": [
    "#3\n",
    "city = input(\"Enter the city: \")\n",
    "if city == \"Delhi\" or city == \"delhi:\n",
    "    print(\"Red Fort\")\n",
    "elif city == \"Agra\" or city == \"agra\":\n",
    "    print(\"Taj Mahal\")\n",
    "elif city == \"Jaipur\" or city == \"jaipur\":\n",
    "    print(\"Jal Mahal\")\n",
    "else:\n",
    "    print(\"None\")"
   ]
  },
  {
   "cell_type": "code",
   "execution_count": 13,
   "id": "26c3f981-4121-4fc9-8a34-4307917f153d",
   "metadata": {},
   "outputs": [
    {
     "name": "stdin",
     "output_type": "stream",
     "text": [
      "Enter the number 90\n"
     ]
    },
    {
     "name": "stdout",
     "output_type": "stream",
     "text": [
      "2\n"
     ]
    }
   ],
   "source": [
    "#4\n",
    "num = int(input(\"Enter the number\"))\n",
    "count = 0\n",
    "while num > 10:\n",
    "    count = count + 1\n",
    "    num = int(num/3)\n",
    "print(count)    "
   ]
  },
  {
   "cell_type": "code",
   "execution_count": 25,
   "id": "c19ef3f8-e47c-412c-af0f-7a898845d15c",
   "metadata": {},
   "outputs": [
    {
     "name": "stdout",
     "output_type": "stream",
     "text": [
      "1\n",
      "2\n",
      "3\n",
      "4\n",
      "5\n",
      "6\n",
      "7\n",
      "8\n",
      "9\n",
      "10\n"
     ]
    }
   ],
   "source": [
    "#5\n",
    "\"\"\"A \"While\" Loop is used to repeat a specific block of code an unknown number of times, until a condition is met.\n",
    "For example, \n",
    "if we want to ask a user for a number between 1 and 10, \n",
    "we don't know how many times the user may enter a larger number, \n",
    "so we keep asking \"while the number is not between 1 and 10\".\"\"\"\n",
    "\n",
    "num = 1\n",
    "while num <= 10:\n",
    "    print(num)\n",
    "    num = num + 1"
   ]
  },
  {
   "cell_type": "code",
   "execution_count": 24,
   "id": "bbfee2cb-dc43-4917-bcea-25302468e4be",
   "metadata": {},
   "outputs": [
    {
     "name": "stdin",
     "output_type": "stream",
     "text": [
      "Enter number of rows :  3\n"
     ]
    },
    {
     "name": "stdout",
     "output_type": "stream",
     "text": [
      "* \n",
      "* * \n",
      "* * * \n"
     ]
    }
   ],
   "source": [
    "#6.1\n",
    "n = int(input('Enter number of rows : '))\n",
    "\n",
    "i = 1\n",
    "while i <= n :\n",
    "    j = 1\n",
    "    while j <= i:\n",
    "        print(\"*\", end = \" \")\n",
    "        j += 1\n",
    "    print()\n",
    "    i += 1"
   ]
  },
  {
   "cell_type": "code",
   "execution_count": 16,
   "id": "102ae0ef-ca7c-4da3-8596-4deb60f20ca8",
   "metadata": {},
   "outputs": [
    {
     "name": "stdin",
     "output_type": "stream",
     "text": [
      "Enter number of rows :  3\n"
     ]
    },
    {
     "name": "stdout",
     "output_type": "stream",
     "text": [
      "* * * \n",
      "* * \n",
      "* \n"
     ]
    }
   ],
   "source": [
    "#6.2\n",
    "n = int(input('Enter number of rows : '))\n",
    " \n",
    "i = 1\n",
    "while i <= n :\n",
    "    j = n\n",
    "    while j >= i:\n",
    "        print(\"*\", end = \" \")\n",
    "        j -= 1\n",
    "    print()\n",
    "    i += 1"
   ]
  },
  {
   "cell_type": "code",
   "execution_count": 20,
   "id": "069eb47a-105c-4d76-8495-5149ef5c23ec",
   "metadata": {},
   "outputs": [
    {
     "name": "stdout",
     "output_type": "stream",
     "text": [
      "1\n",
      "2\n",
      "3\n",
      "4\n",
      "5\n",
      "6\n",
      "7\n",
      "8\n",
      "9\n",
      "10\n"
     ]
    }
   ],
   "source": [
    "#7\n",
    "num = 1\n",
    "while num <= 10:\n",
    "    print(num)\n",
    "    num = num + 1"
   ]
  },
  {
   "cell_type": "code",
   "execution_count": 21,
   "id": "057c59bf-d624-4c0d-b9f9-7ca7c3d82749",
   "metadata": {},
   "outputs": [
    {
     "name": "stdout",
     "output_type": "stream",
     "text": [
      "10\n",
      "9\n",
      "8\n",
      "7\n",
      "6\n",
      "5\n",
      "4\n",
      "3\n",
      "2\n",
      "1\n"
     ]
    }
   ],
   "source": [
    "#8\n",
    "num = 10\n",
    "while num >= 1:\n",
    "    print(num)\n",
    "    num = num - 1"
   ]
  },
  {
   "cell_type": "code",
   "execution_count": null,
   "id": "66384f71-1531-4f1e-bfd6-76f418f19ef3",
   "metadata": {},
   "outputs": [],
   "source": []
  }
 ],
 "metadata": {
  "kernelspec": {
   "display_name": "Python 3 (ipykernel)",
   "language": "python",
   "name": "python3"
  },
  "language_info": {
   "codemirror_mode": {
    "name": "ipython",
    "version": 3
   },
   "file_extension": ".py",
   "mimetype": "text/x-python",
   "name": "python",
   "nbconvert_exporter": "python",
   "pygments_lexer": "ipython3",
   "version": "3.10.8"
  }
 },
 "nbformat": 4,
 "nbformat_minor": 5
}
