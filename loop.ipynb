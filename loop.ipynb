{
 "cells": [
  {
   "cell_type": "code",
   "execution_count": 11,
   "id": "2ccadd48-2c62-44b1-b785-29be68c29024",
   "metadata": {},
   "outputs": [
    {
     "name": "stdout",
     "output_type": "stream",
     "text": [
      "0\n",
      "1\n",
      "5\n",
      "No items left.\n",
      "1\n",
      "2\n",
      "3\n",
      "4\n",
      "5\n",
      "6\n",
      "7\n",
      "8\n",
      "9\n",
      "10\n"
     ]
    }
   ],
   "source": [
    "#1\n",
    "#for loop\n",
    "\"\"\"A for loop is used for iterating over a sequence (that is either a list, a tuple, a dictionary, a set, or a string). \n",
    "This is less like the for keyword in other programming languages, \n",
    "and works more like an iterator method as found in other object-orientated programming languages.\"\"\"\n",
    "\n",
    "digits = [0, 1, 5]\n",
    "\n",
    "for i in digits:\n",
    "    print(i)\n",
    "else:\n",
    "    print(\"No items left.\")\n",
    "    \n",
    "    \n",
    "#while loop\n",
    "\"\"\"A \"While\" Loop is used to repeat a specific block of code an unknown number of times, until a condition is met.\n",
    "For example, \n",
    "if we want to ask a user for a number between 1 and 10, \n",
    "we don't know how many times the user may enter a larger number, \n",
    "so we keep asking \"while the number is not between 1 and 10\".\"\"\"\n",
    "\n",
    "num = 1\n",
    "while num <= 10:\n",
    "    print(num)\n",
    "    num = num + 1"
   ]
  },
  {
   "cell_type": "code",
   "execution_count": 12,
   "id": "ef19bf3d-58d5-45d8-9b6b-60bdd1c085ac",
   "metadata": {},
   "outputs": [
    {
     "name": "stdout",
     "output_type": "stream",
     "text": [
      "55\n",
      "3628800\n"
     ]
    }
   ],
   "source": [
    "#2.1\n",
    "sum = 0\n",
    "product = 1\n",
    "for i in range(1,11):\n",
    "    sum = sum + i\n",
    "    product = product * i\n",
    "print(sum)\n",
    "print(product)"
   ]
  },
  {
   "cell_type": "code",
   "execution_count": 13,
   "id": "e0e49175-7239-4fe6-be6f-d8e299428ab8",
   "metadata": {},
   "outputs": [
    {
     "name": "stdout",
     "output_type": "stream",
     "text": [
      "55\n",
      "3628800\n"
     ]
    }
   ],
   "source": [
    "#2.2\n",
    "i = 1\n",
    "sum = 0\n",
    "product = 1\n",
    "while i <= 10:\n",
    "    sum = sum + i\n",
    "    product = product * i  \n",
    "    i = i + 1\n",
    "print(sum)\n",
    "print(product)"
   ]
  },
  {
   "cell_type": "code",
   "execution_count": 18,
   "id": "82fab0e6-78cc-498d-aeb6-57fe126c6a36",
   "metadata": {},
   "outputs": [
    {
     "name": "stdin",
     "output_type": "stream",
     "text": [
      "Emter the units : 310\n"
     ]
    },
    {
     "name": "stdout",
     "output_type": "stream",
     "text": [
      "2250.0\n"
     ]
    }
   ],
   "source": [
    "#3\n",
    "units = int(input(\"Emter the units :\"))\n",
    "if units <= 100:\n",
    "    charge = units * 4.5\n",
    "    print(charge)\n",
    "elif units > 101 and units <= 200:\n",
    "    charge = ((units - 100) * 6) + (100 * 4.5)\n",
    "    print(charge)\n",
    "elif units > 201 and units <= 300:\n",
    "    charge = ((units - 200) * 10) + (100 * 6) + (100 * 4.5)\n",
    "    print(charge)\n",
    "else:\n",
    "    charge = ((units - 300) * 20) + (100 * 10) + (100 * 6) + (100 * 4.5)\n",
    "    print(charge)"
   ]
  },
  {
   "cell_type": "code",
   "execution_count": 24,
   "id": "e09a3748-5909-46a7-bd35-21a7e8b0d317",
   "metadata": {},
   "outputs": [
    {
     "name": "stdout",
     "output_type": "stream",
     "text": [
      "[8, 64, 125, 216, 512, 1000, 1728, 2744, 3375, 4096, 5832, 8000, 10648, 13824, 15625, 17576, 21952, 27000, 32768, 39304, 42875, 46656, 54872, 64000, 74088, 85184, 91125, 97336, 110592, 125000, 140608, 157464, 166375, 175616, 195112, 216000, 238328, 262144, 274625, 287496, 314432, 343000, 373248, 405224, 421875, 438976, 474552, 512000, 551368, 592704, 614125, 636056, 681472, 729000, 778688, 830584, 857375, 884736, 941192, 1000000]\n"
     ]
    }
   ],
   "source": [
    "#4.1\n",
    "l1 = list(range(1,101))\n",
    "l2 = []\n",
    "for i in l1:\n",
    "    cube = i * i * i\n",
    "    if (cube % 4) == 0 or (cube % 5) == 0:\n",
    "        l2.append(cube)\n",
    "print(l2)        "
   ]
  },
  {
   "cell_type": "code",
   "execution_count": 4,
   "id": "e5f822a7-9f83-42e5-9933-f0cfcef7a202",
   "metadata": {},
   "outputs": [
    {
     "name": "stdout",
     "output_type": "stream",
     "text": [
      "[8, 64, 125, 216, 512, 1000, 1728, 2744, 3375, 4096, 5832, 8000, 10648, 13824, 15625, 17576, 21952, 27000, 32768, 39304, 42875, 46656, 54872, 64000, 74088, 85184, 91125, 97336, 110592, 125000, 140608, 157464, 166375, 175616, 195112, 216000, 238328, 262144, 274625, 287496, 314432, 343000, 373248, 405224, 421875, 438976, 474552, 512000, 551368, 592704, 614125, 636056, 681472, 729000, 778688, 830584, 857375, 884736, 941192, 1000000]\n"
     ]
    }
   ],
   "source": [
    "#4.2\n",
    "i = 1\n",
    "l = []\n",
    "while i <= 100:\n",
    "    cube = i * i * i\n",
    "    if (cube % 4) == 0 or (cube % 5) == 0:\n",
    "        l.append(cube)\n",
    "    i = i + 1    \n",
    "print(l)            "
   ]
  },
  {
   "cell_type": "code",
   "execution_count": 5,
   "id": "1604a733-9b63-41e8-98ce-c8050c19dcc9",
   "metadata": {},
   "outputs": [
    {
     "name": "stdout",
     "output_type": "stream",
     "text": [
      "12\n"
     ]
    }
   ],
   "source": [
    "#5\n",
    "string = \"I want to become a data scientist\"\n",
    "count = 0\n",
    "for i in string:\n",
    "    if i == 'a' or i == 'e' or i == 'i' or i == 'o' or i == 'u' or i == 'A' or i == 'E' or i == 'I' or i == 'O' or i == 'U':\n",
    "        count = count + 1\n",
    "print(count)    "
   ]
  },
  {
   "cell_type": "code",
   "execution_count": null,
   "id": "733ee703-8381-4e42-bd59-5de2ca1d3228",
   "metadata": {},
   "outputs": [],
   "source": []
  }
 ],
 "metadata": {
  "kernelspec": {
   "display_name": "Python 3 (ipykernel)",
   "language": "python",
   "name": "python3"
  },
  "language_info": {
   "codemirror_mode": {
    "name": "ipython",
    "version": 3
   },
   "file_extension": ".py",
   "mimetype": "text/x-python",
   "name": "python",
   "nbconvert_exporter": "python",
   "pygments_lexer": "ipython3",
   "version": "3.10.8"
  }
 },
 "nbformat": 4,
 "nbformat_minor": 5
}
