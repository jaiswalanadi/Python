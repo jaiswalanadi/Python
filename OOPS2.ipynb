{
 "cells": [
  {
   "cell_type": "code",
   "execution_count": 1,
   "id": "d9d224b2-2c30-4c5b-acb6-c699932715de",
   "metadata": {},
   "outputs": [
    {
     "data": {
      "text/plain": [
       "'\\nLet\\'s take another example - When we use the TV remote to increase the volume. \\nWe don\\'t know how pressing a key increases the volume of the TV. \\nWe only know to press the \"+\" button to increase the volume. \\nThat is exactly the abstraction that works in the object-oriented concept.\\n'"
      ]
     },
     "execution_count": 1,
     "metadata": {},
     "output_type": "execute_result"
    }
   ],
   "source": [
    "#1\n",
    "'''\n",
    "Abstraction in python is defined as a process of handling complexity by hiding unnecessary information from the user. \n",
    "This is one of the core concepts of object-oriented programming (OOP) languages.\n",
    "'''\n",
    "\n",
    "'''\n",
    "Let's take another example - When we use the TV remote to increase the volume. \n",
    "We don't know how pressing a key increases the volume of the TV. \n",
    "We only know to press the \"+\" button to increase the volume. \n",
    "That is exactly the abstraction that works in the object-oriented concept.\n",
    "'''"
   ]
  },
  {
   "cell_type": "code",
   "execution_count": 2,
   "id": "d8f29ce2-7f17-48aa-b5ab-22f8038fc3fe",
   "metadata": {},
   "outputs": [
    {
     "name": "stdout",
     "output_type": "stream",
     "text": [
      "Jack Matte\n",
      "Bakers street, London HUAPK29971 01-777-523-342\n",
      "Chinese Python Programming A+\n"
     ]
    }
   ],
   "source": [
    "#2\n",
    "'''\n",
    "Abstraction is hiding the details and implementation of the code. \n",
    "Encapsulation is hiding the data and controlling the visibility of the code\n",
    "'''\n",
    "'''\n",
    "I can think of the interaction between a user and a mobile phone as an example of encapsulation. \n",
    "The user does not need to understand the internal workings of the phone in order to utilise it, \n",
    "which is referred to as abstraction.\n",
    "'''\n",
    "\n",
    "class Person:\n",
    "    def __init__(self):\n",
    "        self.name = \"Jack Matte\"\n",
    "\n",
    "    def bio(self):\n",
    "        self.addr = \"Bakers street, London\"\n",
    "        self.taxInfo = \"HUAPK29971\"\n",
    "        self.contact = \"01-777-523-342\"\n",
    "        print(self.addr, self.taxInfo, self.contact)\n",
    "\n",
    "    def interest(self):\n",
    "        self.favFood = \"Chinese\"\n",
    "        self.hobbies = \"Python Programming\"\n",
    "        self.bloodGroup = \"A+\"\n",
    "        print(self.favFood, self.hobbies, self.bloodGroup)\n",
    "\n",
    "obj = Person()\n",
    "print(obj.name)\n",
    "obj.bio()\n",
    "obj.interest()"
   ]
  },
  {
   "cell_type": "code",
   "execution_count": 3,
   "id": "cc00ad64-a2e3-4467-a4d7-5e5ecc3590bd",
   "metadata": {},
   "outputs": [
    {
     "data": {
      "text/plain": [
       "'\\nThis module provides the infrastructure for defining abstract base classes (ABCs) in Python, \\nas outlined in PEP 3119; see the PEP for why this was added to Python. \\n(See also PEP 3141 and the numbers module regarding a type hierarchy for numbers based on ABCs.)\\n'"
      ]
     },
     "execution_count": 3,
     "metadata": {},
     "output_type": "execute_result"
    }
   ],
   "source": [
    "#3\n",
    "'''\n",
    "This module provides the infrastructure for defining abstract base classes (ABCs) in Python, \n",
    "as outlined in PEP 3119; see the PEP for why this was added to Python. \n",
    "(See also PEP 3141 and the numbers module regarding a type hierarchy for numbers based on ABCs.)\n",
    "'''"
   ]
  },
  {
   "cell_type": "code",
   "execution_count": 4,
   "id": "e6d32b48-10ca-4c3a-978a-48f71e30a132",
   "metadata": {},
   "outputs": [
    {
     "data": {
      "text/plain": [
       "'\\nIn Python, abstraction can be achieved by having/using abstract classes and methods in our programs. \\nUnderstanding Abstract Methods and Classes: \\nAn abstract method is a method that is declared, but does not contain implementation.\\n'"
      ]
     },
     "execution_count": 4,
     "metadata": {},
     "output_type": "execute_result"
    }
   ],
   "source": [
    "#4\n",
    "'''\n",
    "In Python, abstraction can be achieved by having/using abstract classes and methods in our programs. \n",
    "Understanding Abstract Methods and Classes: \n",
    "An abstract method is a method that is declared, but does not contain implementation.\n",
    "'''"
   ]
  },
  {
   "cell_type": "code",
   "execution_count": 5,
   "id": "0320b947-1815-41d5-820b-0076c9b7f267",
   "metadata": {},
   "outputs": [
    {
     "data": {
      "text/plain": [
       "'\\nAn abstract class is a class, but not one you can create objects from directly. \\nIts purpose is to define how other classes should look like, \\ni.e. what methods and properties they are expected to have.\\n'"
      ]
     },
     "execution_count": 5,
     "metadata": {},
     "output_type": "execute_result"
    }
   ],
   "source": [
    "#5\n",
    "'''\n",
    "An abstract class is a class, but not one you can create objects from directly. \n",
    "Its purpose is to define how other classes should look like, \n",
    "i.e. what methods and properties they are expected to have.\n",
    "'''"
   ]
  },
  {
   "cell_type": "code",
   "execution_count": null,
   "id": "bc476b3c-3b29-4f52-a884-8d150f320fe4",
   "metadata": {},
   "outputs": [],
   "source": []
  }
 ],
 "metadata": {
  "kernelspec": {
   "display_name": "Python 3 (ipykernel)",
   "language": "python",
   "name": "python3"
  },
  "language_info": {
   "codemirror_mode": {
    "name": "ipython",
    "version": 3
   },
   "file_extension": ".py",
   "mimetype": "text/x-python",
   "name": "python",
   "nbconvert_exporter": "python",
   "pygments_lexer": "ipython3",
   "version": "3.10.8"
  }
 },
 "nbformat": 4,
 "nbformat_minor": 5
}
