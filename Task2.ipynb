{
 "cells": [
  {
   "cell_type": "code",
   "execution_count": 16,
   "id": "7029b8a1-3a59-4730-a249-4f051da29a57",
   "metadata": {},
   "outputs": [],
   "source": [
    "#1\n",
    "def fun(password):\n",
    "    lower = 0\n",
    "    upper = 0\n",
    "    special = 0\n",
    "    num = 0 \n",
    "    for i in password:\n",
    "        if i.islower():\n",
    "            lower = lower + 1\n",
    "        elif i.isupper():\n",
    "            upper = upper + 1\n",
    "        elif not(i.isalpha()) and not(i.isdigit()):\n",
    "            special = special + 1 \n",
    "        elif type(i) == int:\n",
    "            num = num + 1\n",
    "            \n",
    "    if upper >= 2 and lower >= 2 and special >= 3 and num >= 1 and len(password) == 10:\n",
    "        print(\"Valid Password\")\n",
    "    else:\n",
    "        print(\"Invalid Password\")"
   ]
  },
  {
   "cell_type": "code",
   "execution_count": 21,
   "id": "b2f176dd-a0ca-44c6-8282-85f856df1d8c",
   "metadata": {},
   "outputs": [
    {
     "name": "stdout",
     "output_type": "stream",
     "text": [
      "Invalid Password\n"
     ]
    }
   ],
   "source": [
    "fun(\"anadianadi\")"
   ]
  },
  {
   "cell_type": "code",
   "execution_count": 36,
   "id": "4a2b8115-94ff-4e5d-9bb6-6938119c9ba2",
   "metadata": {},
   "outputs": [
    {
     "data": {
      "text/plain": [
       "True"
      ]
     },
     "execution_count": 36,
     "metadata": {},
     "output_type": "execute_result"
    }
   ],
   "source": [
    "#2\n",
    "#2.1\n",
    "a = lambda x: x.startswith('a')\n",
    "a(\"anadi\")"
   ]
  },
  {
   "cell_type": "code",
   "execution_count": 1,
   "id": "245850b8-f6c0-489e-a6f2-7a6c0dd8bb75",
   "metadata": {},
   "outputs": [
    {
     "data": {
      "text/plain": [
       "False"
      ]
     },
     "execution_count": 1,
     "metadata": {},
     "output_type": "execute_result"
    }
   ],
   "source": [
    "#2.2\n",
    "b = lambda x: x.isnumeric()\n",
    "b(\"anadi\")"
   ]
  },
  {
   "cell_type": "code",
   "execution_count": 2,
   "id": "1404aff4-7849-4592-811d-b9aea2b50a0c",
   "metadata": {},
   "outputs": [
    {
     "name": "stdout",
     "output_type": "stream",
     "text": [
      "[('orange', 80), ('mango', 99), ('grapes', 1000)]\n"
     ]
    }
   ],
   "source": [
    "#2.3\n",
    "fruits = [(\"mango\",99),(\"orange\",80), (\"grapes\", 1000)]\n",
    "fruits.sort(key = lambda x:x[1])\n",
    "print(fruits)"
   ]
  },
  {
   "cell_type": "code",
   "execution_count": 3,
   "id": "564de22d-b83b-4bc3-bbcb-1dc09f29caf6",
   "metadata": {},
   "outputs": [
    {
     "data": {
      "text/plain": [
       "[1, 4, 9, 16, 25, 36, 49, 64, 81, 100]"
      ]
     },
     "execution_count": 3,
     "metadata": {},
     "output_type": "execute_result"
    }
   ],
   "source": [
    "#2.4\n",
    "l1 = list(range(1,11))\n",
    "list(map(lambda x: x**2,l1))"
   ]
  },
  {
   "cell_type": "code",
   "execution_count": 4,
   "id": "03c5c125-4bb1-45f4-8f99-87cb07c2307d",
   "metadata": {},
   "outputs": [
    {
     "data": {
      "text/plain": [
       "[1.0,\n",
       " 1.2599210498948732,\n",
       " 1.4422495703074083,\n",
       " 1.5874010519681994,\n",
       " 1.7099759466766968,\n",
       " 1.8171205928321397,\n",
       " 1.912931182772389,\n",
       " 2.0,\n",
       " 2.080083823051904,\n",
       " 2.154434690031884]"
      ]
     },
     "execution_count": 4,
     "metadata": {},
     "output_type": "execute_result"
    }
   ],
   "source": [
    "#2.5\n",
    "l2 = list(range(1,11))\n",
    "list(map(lambda x: x**(1/3),l2))"
   ]
  },
  {
   "cell_type": "code",
   "execution_count": 8,
   "id": "dceb16cb-4018-43c9-88dd-5f5e3b7363a6",
   "metadata": {},
   "outputs": [
    {
     "data": {
      "text/plain": [
       "'Even'"
      ]
     },
     "execution_count": 8,
     "metadata": {},
     "output_type": "execute_result"
    }
   ],
   "source": [
    "#2.6\n",
    "c = lambda x: \"Even\" if x % 2 == 0 else \"Odd\"\n",
    "c(10)"
   ]
  },
  {
   "cell_type": "code",
   "execution_count": 12,
   "id": "4fb476d8-58f7-41bb-a7b8-5f29120729b4",
   "metadata": {},
   "outputs": [
    {
     "data": {
      "text/plain": [
       "[1, 3, 5, 7, 9]"
      ]
     },
     "execution_count": 12,
     "metadata": {},
     "output_type": "execute_result"
    }
   ],
   "source": [
    "#2.7\n",
    "l3 = [1,2,3,4,5,6,7,8,9,10]\n",
    "list(filter(lambda x: x % 2 != 0, l3))"
   ]
  },
  {
   "cell_type": "code",
   "execution_count": 26,
   "id": "745d7f11-6b61-44f4-8025-f5f42676b069",
   "metadata": {},
   "outputs": [
    {
     "data": {
      "text/plain": [
       "[1, 2, 3, 4, 5, 6]"
      ]
     },
     "execution_count": 27,
     "metadata": {},
     "output_type": "execute_result"
    }
   ],
   "source": [
    "#2.8\n",
    "l4 = [1,2,3,4,5,6,-1,-2,-3,-4,-5,0]\n",
    "list(filter(lambda x: x > 0, l4))"
   ]
  },
  {
   "cell_type": "code",
   "execution_count": 28,
   "id": "9f28a3be-04b2-4a45-9788-f066780c9b3c",
   "metadata": {},
   "outputs": [
    {
     "data": {
      "text/plain": [
       "[-1, -2, -3, -4, -5]"
      ]
     },
     "execution_count": 28,
     "metadata": {},
     "output_type": "execute_result"
    }
   ],
   "source": [
    "list(filter(lambda x: x < 0, l4))"
   ]
  },
  {
   "cell_type": "code",
   "execution_count": null,
   "id": "15166eea-a40b-4ef5-8808-8552e57a4411",
   "metadata": {},
   "outputs": [],
   "source": []
  }
 ],
 "metadata": {
  "kernelspec": {
   "display_name": "Python 3 (ipykernel)",
   "language": "python",
   "name": "python3"
  },
  "language_info": {
   "codemirror_mode": {
    "name": "ipython",
    "version": 3
   },
   "file_extension": ".py",
   "mimetype": "text/x-python",
   "name": "python",
   "nbconvert_exporter": "python",
   "pygments_lexer": "ipython3",
   "version": "3.10.8"
  }
 },
 "nbformat": 4,
 "nbformat_minor": 5
}
